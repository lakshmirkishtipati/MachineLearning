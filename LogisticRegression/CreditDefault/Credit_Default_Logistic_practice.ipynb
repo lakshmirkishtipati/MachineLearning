{
  "nbformat": 4,
  "nbformat_minor": 0,
  "metadata": {
    "colab": {
      "name": "Credit_Default_Logistic_practice.ipynb",
      "version": "0.3.2",
      "provenance": [],
      "include_colab_link": true
    },
    "kernelspec": {
      "name": "python3",
      "display_name": "Python 3"
    },
    "accelerator": "GPU"
  },
  "cells": [
    {
      "cell_type": "markdown",
      "metadata": {
        "id": "view-in-github",
        "colab_type": "text"
      },
      "source": [
        "[View in Colaboratory](https://colab.research.google.com/github/lakshmirkishtipati/MachineLearning/blob/master/LogisticRegression/CreditDefault/Credit_Default_Logistic_practice.ipynb)"
      ]
    },
    {
      "metadata": {
        "id": "OMx8zCTXv13N",
        "colab_type": "code",
        "colab": {}
      },
      "cell_type": "code",
      "source": [
        "import pandas as pd\n",
        "import numpy as np\n",
        "import matplotlib as plt\n",
        "import seaborn as sns"
      ],
      "execution_count": 0,
      "outputs": []
    },
    {
      "metadata": {
        "id": "wt-cIsEVwwbi",
        "colab_type": "code",
        "colab": {
          "base_uri": "https://localhost:8080/",
          "height": 104
        },
        "outputId": "fa682fa9-a738-4ad0-e129-b708d8b9ce52"
      },
      "cell_type": "code",
      "source": [
        "!pip install -q xlrd\n",
        "!git clone https://github.com/lakshmirkishtipati/MachineLearning.git"
      ],
      "execution_count": 2,
      "outputs": [
        {
          "output_type": "stream",
          "text": [
            "Cloning into 'MachineLearning'...\n",
            "remote: Counting objects: 51, done.\u001b[K\n",
            "remote: Compressing objects: 100% (41/41), done.\u001b[K\n",
            "remote: Total 51 (delta 11), reused 0 (delta 0), pack-reused 0\u001b[K\n",
            "Unpacking objects: 100% (51/51), done.\n"
          ],
          "name": "stdout"
        }
      ]
    },
    {
      "metadata": {
        "id": "dgjtgHDDw65Y",
        "colab_type": "code",
        "colab": {
          "base_uri": "https://localhost:8080/",
          "height": 35
        },
        "outputId": "9253fa3a-977f-4349-fa35-ef1adf06bc25"
      },
      "cell_type": "code",
      "source": [
        "!ls MachineLearning/LogisticRegression/CreditDefault"
      ],
      "execution_count": 3,
      "outputs": [
        {
          "output_type": "stream",
          "text": [
            "attachment_default.csv\r\n"
          ],
          "name": "stdout"
        }
      ]
    },
    {
      "metadata": {
        "id": "TK1KrjF2xPnq",
        "colab_type": "code",
        "colab": {}
      },
      "cell_type": "code",
      "source": [
        "default_df = pd.read_csv('MachineLearning/LogisticRegression/CreditDefault/attachment_default.csv')"
      ],
      "execution_count": 0,
      "outputs": []
    },
    {
      "metadata": {
        "id": "X0ik2ZUe9pFp",
        "colab_type": "code",
        "colab": {
          "base_uri": "https://localhost:8080/",
          "height": 202
        },
        "outputId": "b38bb1b9-6003-4b3a-b24a-6750e730d9a5"
      },
      "cell_type": "code",
      "source": [
        "default_df.head()"
      ],
      "execution_count": 5,
      "outputs": [
        {
          "output_type": "execute_result",
          "data": {
            "text/html": [
              "<div>\n",
              "<style scoped>\n",
              "    .dataframe tbody tr th:only-of-type {\n",
              "        vertical-align: middle;\n",
              "    }\n",
              "\n",
              "    .dataframe tbody tr th {\n",
              "        vertical-align: top;\n",
              "    }\n",
              "\n",
              "    .dataframe thead th {\n",
              "        text-align: right;\n",
              "    }\n",
              "</style>\n",
              "<table border=\"1\" class=\"dataframe\">\n",
              "  <thead>\n",
              "    <tr style=\"text-align: right;\">\n",
              "      <th></th>\n",
              "      <th>default</th>\n",
              "      <th>student</th>\n",
              "      <th>balance</th>\n",
              "      <th>income</th>\n",
              "    </tr>\n",
              "  </thead>\n",
              "  <tbody>\n",
              "    <tr>\n",
              "      <th>0</th>\n",
              "      <td>No</td>\n",
              "      <td>No</td>\n",
              "      <td>729.526495</td>\n",
              "      <td>44361.625074</td>\n",
              "    </tr>\n",
              "    <tr>\n",
              "      <th>1</th>\n",
              "      <td>No</td>\n",
              "      <td>Yes</td>\n",
              "      <td>817.180407</td>\n",
              "      <td>12106.134700</td>\n",
              "    </tr>\n",
              "    <tr>\n",
              "      <th>2</th>\n",
              "      <td>No</td>\n",
              "      <td>No</td>\n",
              "      <td>1073.549164</td>\n",
              "      <td>31767.138947</td>\n",
              "    </tr>\n",
              "    <tr>\n",
              "      <th>3</th>\n",
              "      <td>No</td>\n",
              "      <td>No</td>\n",
              "      <td>529.250605</td>\n",
              "      <td>35704.493935</td>\n",
              "    </tr>\n",
              "    <tr>\n",
              "      <th>4</th>\n",
              "      <td>No</td>\n",
              "      <td>No</td>\n",
              "      <td>785.655883</td>\n",
              "      <td>38463.495879</td>\n",
              "    </tr>\n",
              "  </tbody>\n",
              "</table>\n",
              "</div>"
            ],
            "text/plain": [
              "  default student      balance        income\n",
              "0      No      No   729.526495  44361.625074\n",
              "1      No     Yes   817.180407  12106.134700\n",
              "2      No      No  1073.549164  31767.138947\n",
              "3      No      No   529.250605  35704.493935\n",
              "4      No      No   785.655883  38463.495879"
            ]
          },
          "metadata": {
            "tags": []
          },
          "execution_count": 5
        }
      ]
    },
    {
      "metadata": {
        "id": "gtBzuxDE9w_F",
        "colab_type": "code",
        "colab": {
          "base_uri": "https://localhost:8080/",
          "height": 173
        },
        "outputId": "8f6e2dc9-8564-45d3-df05-b1ade655df03"
      },
      "cell_type": "code",
      "source": [
        "default_df.info()"
      ],
      "execution_count": 6,
      "outputs": [
        {
          "output_type": "stream",
          "text": [
            "<class 'pandas.core.frame.DataFrame'>\n",
            "RangeIndex: 10000 entries, 0 to 9999\n",
            "Data columns (total 4 columns):\n",
            "default    10000 non-null object\n",
            "student    10000 non-null object\n",
            "balance    10000 non-null float64\n",
            "income     10000 non-null float64\n",
            "dtypes: float64(2), object(2)\n",
            "memory usage: 312.6+ KB\n"
          ],
          "name": "stdout"
        }
      ]
    },
    {
      "metadata": {
        "id": "iqfgqs1Jwfak",
        "colab_type": "code",
        "colab": {
          "base_uri": "https://localhost:8080/",
          "height": 413
        },
        "outputId": "19597a1d-7ba6-472c-fad3-a18f3f7c6c42"
      },
      "cell_type": "code",
      "source": [
        "#help(sns.boxplot)\n",
        "sns.boxplot(x='default',y='balance',hue='student',data=default_df)"
      ],
      "execution_count": 7,
      "outputs": [
        {
          "output_type": "stream",
          "text": [
            "/usr/local/lib/python3.6/dist-packages/seaborn/categorical.py:482: FutureWarning: remove_na is deprecated and is a private function. Do not use.\n",
            "  box_data = remove_na(group_data[hue_mask])\n"
          ],
          "name": "stderr"
        },
        {
          "output_type": "execute_result",
          "data": {
            "text/plain": [
              "<matplotlib.axes._subplots.AxesSubplot at 0x7f93ea8bc6a0>"
            ]
          },
          "metadata": {
            "tags": []
          },
          "execution_count": 7
        },
        {
          "output_type": "display_data",
          "data": {
            "image/png": "[encoded data removed]",
            "text/plain": [
              "<matplotlib.figure.Figure at 0x7f93eaf3c748>"
            ]
          },
          "metadata": {
            "tags": []
          }
        }
      ]
    },
    {
      "metadata": {
        "id": "pP66KWYYxCD-",
        "colab_type": "code",
        "colab": {
          "base_uri": "https://localhost:8080/",
          "height": 413
        },
        "outputId": "ce9bf1f8-d34b-4ab7-cac7-53c6eb789573"
      },
      "cell_type": "code",
      "source": [
        "sns.boxplot(x='default',y='income',hue='student',data=default_df)"
      ],
      "execution_count": 8,
      "outputs": [
        {
          "output_type": "stream",
          "text": [
            "/usr/local/lib/python3.6/dist-packages/seaborn/categorical.py:482: FutureWarning: remove_na is deprecated and is a private function. Do not use.\n",
            "  box_data = remove_na(group_data[hue_mask])\n"
          ],
          "name": "stderr"
        },
        {
          "output_type": "execute_result",
          "data": {
            "text/plain": [
              "<matplotlib.axes._subplots.AxesSubplot at 0x7f93ea86b2b0>"
            ]
          },
          "metadata": {
            "tags": []
          },
          "execution_count": 8
        },
        {
          "output_type": "display_data",
          "data": {
            "image/png": "[encoded data removed]",
            "text/plain": [
              "<matplotlib.figure.Figure at 0x7f93fcd2bb38>"
            ]
          },
          "metadata": {
            "tags": []
          }
        }
      ]
    },
    {
      "metadata": {
        "id": "RUHGxVZ69Goc",
        "colab_type": "code",
        "colab": {
          "base_uri": "https://localhost:8080/",
          "height": 383
        },
        "outputId": "b7a005de-a6f9-40b2-9d04-06d40870909c"
      },
      "cell_type": "code",
      "source": [
        "sns.lmplot(x='balance',y='income',hue='default',data = default_df,aspect=1.5,ci=None,fit_reg=False,)"
      ],
      "execution_count": 9,
      "outputs": [
        {
          "output_type": "execute_result",
          "data": {
            "text/plain": [
              "<seaborn.axisgrid.FacetGrid at 0x7f93e87862b0>"
            ]
          },
          "metadata": {
            "tags": []
          },
          "execution_count": 9
        },
        {
          "output_type": "display_data",
          "data": {
            "image/png": "[encoded data removed]",
            "text/plain": [
              "<matplotlib.figure.Figure at 0x7f93eb21dac8>"
            ]
          },
          "metadata": {
            "tags": []
          }
        }
      ]
    },
    {
      "metadata": {
        "id": "MLpUWzr9_6Hc",
        "colab_type": "code",
        "colab": {
          "base_uri": "https://localhost:8080/",
          "height": 1250
        },
        "outputId": "94016cf2-9260-409a-9638-3c1d0b118de3"
      },
      "cell_type": "code",
      "source": [
        "#help(pd.crosstab)\n",
        "print(default_df[default_df['student']=='Yes'])\n",
        "pd.crosstab(default_df['default'],default_df['student'])"
      ],
      "execution_count": 10,
      "outputs": [
        {
          "output_type": "stream",
          "text": [
            "     default student      balance        income\n",
            "1         No     Yes   817.180407  12106.134700\n",
            "5         No     Yes   919.588530   7491.558572\n",
            "7         No     Yes   808.667504  17600.451344\n",
            "10        No     Yes     0.000000  21871.073089\n",
            "11        No     Yes  1220.583753  13268.562221\n",
            "17        No     Yes   527.540184  17636.539617\n",
            "29        No     Yes  1119.569353  16556.070205\n",
            "31        No     Yes   448.880656  15799.470410\n",
            "32        No     Yes   584.904895  22429.935046\n",
            "34        No     Yes  1423.938917  22634.488088\n",
            "35        No     Yes  1499.724657  13190.652716\n",
            "43        No     Yes   220.555608  16872.947556\n",
            "44        No     Yes  1690.234410  19052.572225\n",
            "51        No     Yes  1282.972534  13120.636470\n",
            "52        No     Yes  1505.782675  26557.141446\n",
            "53        No     Yes   904.040259  16882.300606\n",
            "55        No     Yes  1294.497347  10464.320732\n",
            "56        No     Yes  1275.550633  15887.468487\n",
            "73        No     Yes  1578.064099  19886.493952\n",
            "75        No     Yes   752.459946  16211.275788\n",
            "76        No     Yes   774.738427  15193.733136\n",
            "80        No     Yes   948.747918  14297.619049\n",
            "86        No     Yes  1005.161306  24038.652043\n",
            "87        No     Yes   162.454451  13241.752060\n",
            "89        No     Yes   893.330468  11905.681793\n",
            "92        No     Yes  1148.965139  16578.192118\n",
            "96        No     Yes   619.751869  15750.622083\n",
            "105       No     Yes  1722.355846  19311.422941\n",
            "106       No     Yes   773.921861  14558.912138\n",
            "113       No     Yes   541.662755  16335.703441\n",
            "...      ...     ...          ...           ...\n",
            "9901      No     Yes  1128.768728  17718.941737\n",
            "9908      No     Yes   958.874769  25282.241054\n",
            "9911      No     Yes  1106.107201   9610.503423\n",
            "9913      No     Yes  1113.752598  17810.673064\n",
            "9914      No     Yes  1882.841790  15968.036541\n",
            "9921     Yes     Yes  1627.898323  17546.997016\n",
            "9925      No     Yes   501.058248  23090.997192\n",
            "9927      No     Yes   580.351481  17624.158913\n",
            "9929      No     Yes   364.173415  21487.644097\n",
            "9931      No     Yes   705.930232  19891.303781\n",
            "9937      No     Yes  1775.581701  13735.190872\n",
            "9940      No     Yes   421.957265  21744.974236\n",
            "9944      No     Yes  1478.600880  13375.015723\n",
            "9946      No     Yes   734.459199  17619.487176\n",
            "9953      No     Yes   776.544280  14229.728124\n",
            "9954      No     Yes   865.906316  18064.243987\n",
            "9955      No     Yes   692.356318  18689.052141\n",
            "9960      No     Yes   826.741213  18856.900030\n",
            "9962      No     Yes  1635.175122  13518.930622\n",
            "9965      No     Yes   905.142369  13485.514236\n",
            "9968      No     Yes   871.750774  14247.946850\n",
            "9970      No     Yes  1294.500408  25687.326050\n",
            "9971      No     Yes   180.620128  20975.560495\n",
            "9974      No     Yes   933.332025  26051.398320\n",
            "9977      No     Yes   915.439827  16624.339111\n",
            "9980      No     Yes   770.015741  13684.789952\n",
            "9986      No     Yes   401.332674  15332.017833\n",
            "9989      No     Yes   999.281112  20013.350644\n",
            "9994      No     Yes   172.412987  14955.941689\n",
            "9999      No     Yes   200.922183  16862.952321\n",
            "\n",
            "[2944 rows x 4 columns]\n"
          ],
          "name": "stdout"
        },
        {
          "output_type": "execute_result",
          "data": {
            "text/html": [
              "<div>\n",
              "<style scoped>\n",
              "    .dataframe tbody tr th:only-of-type {\n",
              "        vertical-align: middle;\n",
              "    }\n",
              "\n",
              "    .dataframe tbody tr th {\n",
              "        vertical-align: top;\n",
              "    }\n",
              "\n",
              "    .dataframe thead th {\n",
              "        text-align: right;\n",
              "    }\n",
              "</style>\n",
              "<table border=\"1\" class=\"dataframe\">\n",
              "  <thead>\n",
              "    <tr style=\"text-align: right;\">\n",
              "      <th>student</th>\n",
              "      <th>No</th>\n",
              "      <th>Yes</th>\n",
              "    </tr>\n",
              "    <tr>\n",
              "      <th>default</th>\n",
              "      <th></th>\n",
              "      <th></th>\n",
              "    </tr>\n",
              "  </thead>\n",
              "  <tbody>\n",
              "    <tr>\n",
              "      <th>No</th>\n",
              "      <td>6850</td>\n",
              "      <td>2817</td>\n",
              "    </tr>\n",
              "    <tr>\n",
              "      <th>Yes</th>\n",
              "      <td>206</td>\n",
              "      <td>127</td>\n",
              "    </tr>\n",
              "  </tbody>\n",
              "</table>\n",
              "</div>"
            ],
            "text/plain": [
              "student    No   Yes\n",
              "default            \n",
              "No       6850  2817\n",
              "Yes       206   127"
            ]
          },
          "metadata": {
            "tags": []
          },
          "execution_count": 10
        }
      ]
    },
    {
      "metadata": {
        "id": "condUyRdCtE9",
        "colab_type": "code",
        "colab": {
          "base_uri": "https://localhost:8080/",
          "height": 1949
        },
        "outputId": "20ddbd81-6ae0-4173-a4bb-fbed2dcf69d4"
      },
      "cell_type": "code",
      "source": [
        "# converting default to dummies\n",
        "\n",
        "default_dummies = pd.get_dummies(default_df['default'],prefix='default')\n",
        "default_dummies.drop(default_dummies.columns[0],axis=1,inplace=True)\n",
        "default_df = pd.concat([default_df,default_dummies],axis=1)\n",
        "default_df"
      ],
      "execution_count": 11,
      "outputs": [
        {
          "output_type": "execute_result",
          "data": {
            "text/html": [
              "<div>\n",
              "<style scoped>\n",
              "    .dataframe tbody tr th:only-of-type {\n",
              "        vertical-align: middle;\n",
              "    }\n",
              "\n",
              "    .dataframe tbody tr th {\n",
              "        vertical-align: top;\n",
              "    }\n",
              "\n",
              "    .dataframe thead th {\n",
              "        text-align: right;\n",
              "    }\n",
              "</style>\n",
              "<table border=\"1\" class=\"dataframe\">\n",
              "  <thead>\n",
              "    <tr style=\"text-align: right;\">\n",
              "      <th></th>\n",
              "      <th>default</th>\n",
              "      <th>student</th>\n",
              "      <th>balance</th>\n",
              "      <th>income</th>\n",
              "      <th>default_Yes</th>\n",
              "    </tr>\n",
              "  </thead>\n",
              "  <tbody>\n",
              "    <tr>\n",
              "      <th>0</th>\n",
              "      <td>No</td>\n",
              "      <td>No</td>\n",
              "      <td>729.526495</td>\n",
              "      <td>44361.625074</td>\n",
              "      <td>0</td>\n",
              "    </tr>\n",
              "    <tr>\n",
              "      <th>1</th>\n",
              "      <td>No</td>\n",
              "      <td>Yes</td>\n",
              "      <td>817.180407</td>\n",
              "      <td>12106.134700</td>\n",
              "      <td>0</td>\n",
              "    </tr>\n",
              "    <tr>\n",
              "      <th>2</th>\n",
              "      <td>No</td>\n",
              "      <td>No</td>\n",
              "      <td>1073.549164</td>\n",
              "      <td>31767.138947</td>\n",
              "      <td>0</td>\n",
              "    </tr>\n",
              "    <tr>\n",
              "      <th>3</th>\n",
              "      <td>No</td>\n",
              "      <td>No</td>\n",
              "      <td>529.250605</td>\n",
              "      <td>35704.493935</td>\n",
              "      <td>0</td>\n",
              "    </tr>\n",
              "    <tr>\n",
              "      <th>4</th>\n",
              "      <td>No</td>\n",
              "      <td>No</td>\n",
              "      <td>785.655883</td>\n",
              "      <td>38463.495879</td>\n",
              "      <td>0</td>\n",
              "    </tr>\n",
              "    <tr>\n",
              "      <th>5</th>\n",
              "      <td>No</td>\n",
              "      <td>Yes</td>\n",
              "      <td>919.588530</td>\n",
              "      <td>7491.558572</td>\n",
              "      <td>0</td>\n",
              "    </tr>\n",
              "    <tr>\n",
              "      <th>6</th>\n",
              "      <td>No</td>\n",
              "      <td>No</td>\n",
              "      <td>825.513331</td>\n",
              "      <td>24905.226578</td>\n",
              "      <td>0</td>\n",
              "    </tr>\n",
              "    <tr>\n",
              "      <th>7</th>\n",
              "      <td>No</td>\n",
              "      <td>Yes</td>\n",
              "      <td>808.667504</td>\n",
              "      <td>17600.451344</td>\n",
              "      <td>0</td>\n",
              "    </tr>\n",
              "    <tr>\n",
              "      <th>8</th>\n",
              "      <td>No</td>\n",
              "      <td>No</td>\n",
              "      <td>1161.057854</td>\n",
              "      <td>37468.529288</td>\n",
              "      <td>0</td>\n",
              "    </tr>\n",
              "    <tr>\n",
              "      <th>9</th>\n",
              "      <td>No</td>\n",
              "      <td>No</td>\n",
              "      <td>0.000000</td>\n",
              "      <td>29275.268293</td>\n",
              "      <td>0</td>\n",
              "    </tr>\n",
              "    <tr>\n",
              "      <th>10</th>\n",
              "      <td>No</td>\n",
              "      <td>Yes</td>\n",
              "      <td>0.000000</td>\n",
              "      <td>21871.073089</td>\n",
              "      <td>0</td>\n",
              "    </tr>\n",
              "    <tr>\n",
              "      <th>11</th>\n",
              "      <td>No</td>\n",
              "      <td>Yes</td>\n",
              "      <td>1220.583753</td>\n",
              "      <td>13268.562221</td>\n",
              "      <td>0</td>\n",
              "    </tr>\n",
              "    <tr>\n",
              "      <th>12</th>\n",
              "      <td>No</td>\n",
              "      <td>No</td>\n",
              "      <td>237.045114</td>\n",
              "      <td>28251.695345</td>\n",
              "      <td>0</td>\n",
              "    </tr>\n",
              "    <tr>\n",
              "      <th>13</th>\n",
              "      <td>No</td>\n",
              "      <td>No</td>\n",
              "      <td>606.742343</td>\n",
              "      <td>44994.555849</td>\n",
              "      <td>0</td>\n",
              "    </tr>\n",
              "    <tr>\n",
              "      <th>14</th>\n",
              "      <td>No</td>\n",
              "      <td>No</td>\n",
              "      <td>1112.968401</td>\n",
              "      <td>23810.174050</td>\n",
              "      <td>0</td>\n",
              "    </tr>\n",
              "    <tr>\n",
              "      <th>15</th>\n",
              "      <td>No</td>\n",
              "      <td>No</td>\n",
              "      <td>286.232560</td>\n",
              "      <td>45042.413036</td>\n",
              "      <td>0</td>\n",
              "    </tr>\n",
              "    <tr>\n",
              "      <th>16</th>\n",
              "      <td>No</td>\n",
              "      <td>No</td>\n",
              "      <td>0.000000</td>\n",
              "      <td>50265.312354</td>\n",
              "      <td>0</td>\n",
              "    </tr>\n",
              "    <tr>\n",
              "      <th>17</th>\n",
              "      <td>No</td>\n",
              "      <td>Yes</td>\n",
              "      <td>527.540184</td>\n",
              "      <td>17636.539617</td>\n",
              "      <td>0</td>\n",
              "    </tr>\n",
              "    <tr>\n",
              "      <th>18</th>\n",
              "      <td>No</td>\n",
              "      <td>No</td>\n",
              "      <td>485.936864</td>\n",
              "      <td>61566.106118</td>\n",
              "      <td>0</td>\n",
              "    </tr>\n",
              "    <tr>\n",
              "      <th>19</th>\n",
              "      <td>No</td>\n",
              "      <td>No</td>\n",
              "      <td>1095.072735</td>\n",
              "      <td>26464.631389</td>\n",
              "      <td>0</td>\n",
              "    </tr>\n",
              "    <tr>\n",
              "      <th>20</th>\n",
              "      <td>No</td>\n",
              "      <td>No</td>\n",
              "      <td>228.952550</td>\n",
              "      <td>50500.182198</td>\n",
              "      <td>0</td>\n",
              "    </tr>\n",
              "    <tr>\n",
              "      <th>21</th>\n",
              "      <td>No</td>\n",
              "      <td>No</td>\n",
              "      <td>954.261793</td>\n",
              "      <td>32457.509075</td>\n",
              "      <td>0</td>\n",
              "    </tr>\n",
              "    <tr>\n",
              "      <th>22</th>\n",
              "      <td>No</td>\n",
              "      <td>No</td>\n",
              "      <td>1055.956605</td>\n",
              "      <td>51317.883082</td>\n",
              "      <td>0</td>\n",
              "    </tr>\n",
              "    <tr>\n",
              "      <th>23</th>\n",
              "      <td>No</td>\n",
              "      <td>No</td>\n",
              "      <td>641.984389</td>\n",
              "      <td>30466.103257</td>\n",
              "      <td>0</td>\n",
              "    </tr>\n",
              "    <tr>\n",
              "      <th>24</th>\n",
              "      <td>No</td>\n",
              "      <td>No</td>\n",
              "      <td>773.211725</td>\n",
              "      <td>34353.314305</td>\n",
              "      <td>0</td>\n",
              "    </tr>\n",
              "    <tr>\n",
              "      <th>25</th>\n",
              "      <td>No</td>\n",
              "      <td>No</td>\n",
              "      <td>855.008523</td>\n",
              "      <td>25211.332161</td>\n",
              "      <td>0</td>\n",
              "    </tr>\n",
              "    <tr>\n",
              "      <th>26</th>\n",
              "      <td>No</td>\n",
              "      <td>No</td>\n",
              "      <td>642.999739</td>\n",
              "      <td>41473.511801</td>\n",
              "      <td>0</td>\n",
              "    </tr>\n",
              "    <tr>\n",
              "      <th>27</th>\n",
              "      <td>No</td>\n",
              "      <td>No</td>\n",
              "      <td>1454.863272</td>\n",
              "      <td>32189.094952</td>\n",
              "      <td>0</td>\n",
              "    </tr>\n",
              "    <tr>\n",
              "      <th>28</th>\n",
              "      <td>No</td>\n",
              "      <td>No</td>\n",
              "      <td>615.704277</td>\n",
              "      <td>39376.394619</td>\n",
              "      <td>0</td>\n",
              "    </tr>\n",
              "    <tr>\n",
              "      <th>29</th>\n",
              "      <td>No</td>\n",
              "      <td>Yes</td>\n",
              "      <td>1119.569353</td>\n",
              "      <td>16556.070205</td>\n",
              "      <td>0</td>\n",
              "    </tr>\n",
              "    <tr>\n",
              "      <th>...</th>\n",
              "      <td>...</td>\n",
              "      <td>...</td>\n",
              "      <td>...</td>\n",
              "      <td>...</td>\n",
              "      <td>...</td>\n",
              "    </tr>\n",
              "    <tr>\n",
              "      <th>9970</th>\n",
              "      <td>No</td>\n",
              "      <td>Yes</td>\n",
              "      <td>1294.500408</td>\n",
              "      <td>25687.326050</td>\n",
              "      <td>0</td>\n",
              "    </tr>\n",
              "    <tr>\n",
              "      <th>9971</th>\n",
              "      <td>No</td>\n",
              "      <td>Yes</td>\n",
              "      <td>180.620128</td>\n",
              "      <td>20975.560495</td>\n",
              "      <td>0</td>\n",
              "    </tr>\n",
              "    <tr>\n",
              "      <th>9972</th>\n",
              "      <td>No</td>\n",
              "      <td>No</td>\n",
              "      <td>755.432801</td>\n",
              "      <td>14455.865365</td>\n",
              "      <td>0</td>\n",
              "    </tr>\n",
              "    <tr>\n",
              "      <th>9973</th>\n",
              "      <td>No</td>\n",
              "      <td>No</td>\n",
              "      <td>876.119027</td>\n",
              "      <td>37668.366788</td>\n",
              "      <td>0</td>\n",
              "    </tr>\n",
              "    <tr>\n",
              "      <th>9974</th>\n",
              "      <td>No</td>\n",
              "      <td>Yes</td>\n",
              "      <td>933.332025</td>\n",
              "      <td>26051.398320</td>\n",
              "      <td>0</td>\n",
              "    </tr>\n",
              "    <tr>\n",
              "      <th>9975</th>\n",
              "      <td>No</td>\n",
              "      <td>No</td>\n",
              "      <td>908.315934</td>\n",
              "      <td>21287.942487</td>\n",
              "      <td>0</td>\n",
              "    </tr>\n",
              "    <tr>\n",
              "      <th>9976</th>\n",
              "      <td>No</td>\n",
              "      <td>No</td>\n",
              "      <td>218.417559</td>\n",
              "      <td>25401.133121</td>\n",
              "      <td>0</td>\n",
              "    </tr>\n",
              "    <tr>\n",
              "      <th>9977</th>\n",
              "      <td>No</td>\n",
              "      <td>Yes</td>\n",
              "      <td>915.439827</td>\n",
              "      <td>16624.339111</td>\n",
              "      <td>0</td>\n",
              "    </tr>\n",
              "    <tr>\n",
              "      <th>9978</th>\n",
              "      <td>Yes</td>\n",
              "      <td>No</td>\n",
              "      <td>2202.462395</td>\n",
              "      <td>47287.257108</td>\n",
              "      <td>1</td>\n",
              "    </tr>\n",
              "    <tr>\n",
              "      <th>9979</th>\n",
              "      <td>No</td>\n",
              "      <td>No</td>\n",
              "      <td>173.249172</td>\n",
              "      <td>30697.245062</td>\n",
              "      <td>0</td>\n",
              "    </tr>\n",
              "    <tr>\n",
              "      <th>9980</th>\n",
              "      <td>No</td>\n",
              "      <td>Yes</td>\n",
              "      <td>770.015741</td>\n",
              "      <td>13684.789952</td>\n",
              "      <td>0</td>\n",
              "    </tr>\n",
              "    <tr>\n",
              "      <th>9981</th>\n",
              "      <td>No</td>\n",
              "      <td>No</td>\n",
              "      <td>739.418018</td>\n",
              "      <td>40656.951448</td>\n",
              "      <td>0</td>\n",
              "    </tr>\n",
              "    <tr>\n",
              "      <th>9982</th>\n",
              "      <td>No</td>\n",
              "      <td>No</td>\n",
              "      <td>623.526119</td>\n",
              "      <td>59441.309981</td>\n",
              "      <td>0</td>\n",
              "    </tr>\n",
              "    <tr>\n",
              "      <th>9983</th>\n",
              "      <td>No</td>\n",
              "      <td>No</td>\n",
              "      <td>506.625454</td>\n",
              "      <td>49861.003411</td>\n",
              "      <td>0</td>\n",
              "    </tr>\n",
              "    <tr>\n",
              "      <th>9984</th>\n",
              "      <td>No</td>\n",
              "      <td>No</td>\n",
              "      <td>875.241640</td>\n",
              "      <td>52861.744197</td>\n",
              "      <td>0</td>\n",
              "    </tr>\n",
              "    <tr>\n",
              "      <th>9985</th>\n",
              "      <td>No</td>\n",
              "      <td>No</td>\n",
              "      <td>842.949429</td>\n",
              "      <td>39957.127855</td>\n",
              "      <td>0</td>\n",
              "    </tr>\n",
              "    <tr>\n",
              "      <th>9986</th>\n",
              "      <td>No</td>\n",
              "      <td>Yes</td>\n",
              "      <td>401.332674</td>\n",
              "      <td>15332.017833</td>\n",
              "      <td>0</td>\n",
              "    </tr>\n",
              "    <tr>\n",
              "      <th>9987</th>\n",
              "      <td>No</td>\n",
              "      <td>No</td>\n",
              "      <td>1092.906583</td>\n",
              "      <td>45479.466985</td>\n",
              "      <td>0</td>\n",
              "    </tr>\n",
              "    <tr>\n",
              "      <th>9988</th>\n",
              "      <td>No</td>\n",
              "      <td>No</td>\n",
              "      <td>0.000000</td>\n",
              "      <td>41740.686597</td>\n",
              "      <td>0</td>\n",
              "    </tr>\n",
              "    <tr>\n",
              "      <th>9989</th>\n",
              "      <td>No</td>\n",
              "      <td>Yes</td>\n",
              "      <td>999.281112</td>\n",
              "      <td>20013.350644</td>\n",
              "      <td>0</td>\n",
              "    </tr>\n",
              "    <tr>\n",
              "      <th>9990</th>\n",
              "      <td>No</td>\n",
              "      <td>No</td>\n",
              "      <td>372.379239</td>\n",
              "      <td>25374.899085</td>\n",
              "      <td>0</td>\n",
              "    </tr>\n",
              "    <tr>\n",
              "      <th>9991</th>\n",
              "      <td>No</td>\n",
              "      <td>No</td>\n",
              "      <td>658.799558</td>\n",
              "      <td>54802.078221</td>\n",
              "      <td>0</td>\n",
              "    </tr>\n",
              "    <tr>\n",
              "      <th>9992</th>\n",
              "      <td>No</td>\n",
              "      <td>No</td>\n",
              "      <td>1111.647317</td>\n",
              "      <td>45490.682463</td>\n",
              "      <td>0</td>\n",
              "    </tr>\n",
              "    <tr>\n",
              "      <th>9993</th>\n",
              "      <td>No</td>\n",
              "      <td>No</td>\n",
              "      <td>938.836241</td>\n",
              "      <td>56633.448744</td>\n",
              "      <td>0</td>\n",
              "    </tr>\n",
              "    <tr>\n",
              "      <th>9994</th>\n",
              "      <td>No</td>\n",
              "      <td>Yes</td>\n",
              "      <td>172.412987</td>\n",
              "      <td>14955.941689</td>\n",
              "      <td>0</td>\n",
              "    </tr>\n",
              "    <tr>\n",
              "      <th>9995</th>\n",
              "      <td>No</td>\n",
              "      <td>No</td>\n",
              "      <td>711.555020</td>\n",
              "      <td>52992.378914</td>\n",
              "      <td>0</td>\n",
              "    </tr>\n",
              "    <tr>\n",
              "      <th>9996</th>\n",
              "      <td>No</td>\n",
              "      <td>No</td>\n",
              "      <td>757.962918</td>\n",
              "      <td>19660.721768</td>\n",
              "      <td>0</td>\n",
              "    </tr>\n",
              "    <tr>\n",
              "      <th>9997</th>\n",
              "      <td>No</td>\n",
              "      <td>No</td>\n",
              "      <td>845.411989</td>\n",
              "      <td>58636.156984</td>\n",
              "      <td>0</td>\n",
              "    </tr>\n",
              "    <tr>\n",
              "      <th>9998</th>\n",
              "      <td>No</td>\n",
              "      <td>No</td>\n",
              "      <td>1569.009053</td>\n",
              "      <td>36669.112365</td>\n",
              "      <td>0</td>\n",
              "    </tr>\n",
              "    <tr>\n",
              "      <th>9999</th>\n",
              "      <td>No</td>\n",
              "      <td>Yes</td>\n",
              "      <td>200.922183</td>\n",
              "      <td>16862.952321</td>\n",
              "      <td>0</td>\n",
              "    </tr>\n",
              "  </tbody>\n",
              "</table>\n",
              "<p>10000 rows × 5 columns</p>\n",
              "</div>"
            ],
            "text/plain": [
              "     default student      balance        income  default_Yes\n",
              "0         No      No   729.526495  44361.625074            0\n",
              "1         No     Yes   817.180407  12106.134700            0\n",
              "2         No      No  1073.549164  31767.138947            0\n",
              "3         No      No   529.250605  35704.493935            0\n",
              "4         No      No   785.655883  38463.495879            0\n",
              "5         No     Yes   919.588530   7491.558572            0\n",
              "6         No      No   825.513331  24905.226578            0\n",
              "7         No     Yes   808.667504  17600.451344            0\n",
              "8         No      No  1161.057854  37468.529288            0\n",
              "9         No      No     0.000000  29275.268293            0\n",
              "10        No     Yes     0.000000  21871.073089            0\n",
              "11        No     Yes  1220.583753  13268.562221            0\n",
              "12        No      No   237.045114  28251.695345            0\n",
              "13        No      No   606.742343  44994.555849            0\n",
              "14        No      No  1112.968401  23810.174050            0\n",
              "15        No      No   286.232560  45042.413036            0\n",
              "16        No      No     0.000000  50265.312354            0\n",
              "17        No     Yes   527.540184  17636.539617            0\n",
              "18        No      No   485.936864  61566.106118            0\n",
              "19        No      No  1095.072735  26464.631389            0\n",
              "20        No      No   228.952550  50500.182198            0\n",
              "21        No      No   954.261793  32457.509075            0\n",
              "22        No      No  1055.956605  51317.883082            0\n",
              "23        No      No   641.984389  30466.103257            0\n",
              "24        No      No   773.211725  34353.314305            0\n",
              "25        No      No   855.008523  25211.332161            0\n",
              "26        No      No   642.999739  41473.511801            0\n",
              "27        No      No  1454.863272  32189.094952            0\n",
              "28        No      No   615.704277  39376.394619            0\n",
              "29        No     Yes  1119.569353  16556.070205            0\n",
              "...      ...     ...          ...           ...          ...\n",
              "9970      No     Yes  1294.500408  25687.326050            0\n",
              "9971      No     Yes   180.620128  20975.560495            0\n",
              "9972      No      No   755.432801  14455.865365            0\n",
              "9973      No      No   876.119027  37668.366788            0\n",
              "9974      No     Yes   933.332025  26051.398320            0\n",
              "9975      No      No   908.315934  21287.942487            0\n",
              "9976      No      No   218.417559  25401.133121            0\n",
              "9977      No     Yes   915.439827  16624.339111            0\n",
              "9978     Yes      No  2202.462395  47287.257108            1\n",
              "9979      No      No   173.249172  30697.245062            0\n",
              "9980      No     Yes   770.015741  13684.789952            0\n",
              "9981      No      No   739.418018  40656.951448            0\n",
              "9982      No      No   623.526119  59441.309981            0\n",
              "9983      No      No   506.625454  49861.003411            0\n",
              "9984      No      No   875.241640  52861.744197            0\n",
              "9985      No      No   842.949429  39957.127855            0\n",
              "9986      No     Yes   401.332674  15332.017833            0\n",
              "9987      No      No  1092.906583  45479.466985            0\n",
              "9988      No      No     0.000000  41740.686597            0\n",
              "9989      No     Yes   999.281112  20013.350644            0\n",
              "9990      No      No   372.379239  25374.899085            0\n",
              "9991      No      No   658.799558  54802.078221            0\n",
              "9992      No      No  1111.647317  45490.682463            0\n",
              "9993      No      No   938.836241  56633.448744            0\n",
              "9994      No     Yes   172.412987  14955.941689            0\n",
              "9995      No      No   711.555020  52992.378914            0\n",
              "9996      No      No   757.962918  19660.721768            0\n",
              "9997      No      No   845.411989  58636.156984            0\n",
              "9998      No      No  1569.009053  36669.112365            0\n",
              "9999      No     Yes   200.922183  16862.952321            0\n",
              "\n",
              "[10000 rows x 5 columns]"
            ]
          },
          "metadata": {
            "tags": []
          },
          "execution_count": 11
        }
      ]
    },
    {
      "metadata": {
        "id": "wamVIjlRE6B3",
        "colab_type": "code",
        "colab": {
          "base_uri": "https://localhost:8080/",
          "height": 383
        },
        "outputId": "746ce5da-6f10-4be4-c989-f9aaf9f0ef98"
      },
      "cell_type": "code",
      "source": [
        "#default_df.head()\n",
        "sns.lmplot(x='balance',y='default_Yes',data=default_df,aspect = 1.5,ci = None, fit_reg=True)"
      ],
      "execution_count": 12,
      "outputs": [
        {
          "output_type": "execute_result",
          "data": {
            "text/plain": [
              "<seaborn.axisgrid.FacetGrid at 0x7f93e86c89b0>"
            ]
          },
          "metadata": {
            "tags": []
          },
          "execution_count": 12
        },
        {
          "output_type": "display_data",
          "data": {
            "image/png": "[encoded data removed]",
            "text/plain": [
              "<matplotlib.figure.Figure at 0x7f93e86c8550>"
            ]
          },
          "metadata": {
            "tags": []
          }
        }
      ]
    },
    {
      "metadata": {
        "id": "AwhemcTTGXGY",
        "colab_type": "code",
        "colab": {}
      },
      "cell_type": "code",
      "source": [
        "from sklearn import linear_model\n",
        "from sklearn import metrics\n",
        "from sklearn.linear_model import LogisticRegression"
      ],
      "execution_count": 0,
      "outputs": []
    },
    {
      "metadata": {
        "id": "N9z3bvlkF3pR",
        "colab_type": "code",
        "colab": {
          "base_uri": "https://localhost:8080/",
          "height": 538
        },
        "outputId": "91e41d09-0d73-4a5c-842c-5f6729541f0d"
      },
      "cell_type": "code",
      "source": [
        "# Building logistic Regression on the Model\n",
        "\n",
        "x = default_df[['balance']]\n",
        "y = default_df['default_Yes']\n",
        "logreg = LogisticRegression()\n",
        "logreg.fit(x,y)\n",
        "print(logreg.coef_)\n",
        "print(logreg.intercept_)\n",
        "\n",
        "y_pred = logreg.predict(x)\n",
        "y_pred_prob = logreg.predict_proba(x)\n",
        "print(y_pred)\n",
        "print(y_pred_prob)\n",
        "\n",
        "plt.pyplot.scatter(x.values,y)\n",
        "plt.pyplot.scatter(x.values,y_pred_prob[:,1])"
      ],
      "execution_count": 14,
      "outputs": [
        {
          "output_type": "stream",
          "text": [
            "[[0.00478248]]\n",
            "[-9.46506555]\n",
            "[0 0 0 ... 0 0 0]\n",
            "[[9.97467775e-01 2.53222488e-03]\n",
            " [9.96154193e-01 3.84580671e-03]\n",
            " [9.87014365e-01 1.29856348e-02]\n",
            " ...\n",
            " [9.95600704e-01 4.39929595e-03]\n",
            " [8.76675206e-01 1.23324794e-01]\n",
            " [9.99797417e-01 2.02582703e-04]]\n"
          ],
          "name": "stdout"
        },
        {
          "output_type": "execute_result",
          "data": {
            "text/plain": [
              "<matplotlib.collections.PathCollection at 0x7f93e3d8a9b0>"
            ]
          },
          "metadata": {
            "tags": []
          },
          "execution_count": 14
        },
        {
          "output_type": "display_data",
          "data": {
            "image/png": "[encoded data removed]",
            "text/plain": [
              "<matplotlib.figure.Figure at 0x7f93e3d8aac8>"
            ]
          },
          "metadata": {
            "tags": []
          }
        }
      ]
    },
    {
      "metadata": {
        "id": "hgFWiJ5YJvk5",
        "colab_type": "text"
      },
      "cell_type": "markdown",
      "source": [
        "### Creating Logistic Model"
      ]
    },
    {
      "metadata": {
        "id": "bcJ7kQD9HE2r",
        "colab_type": "code",
        "colab": {
          "base_uri": "https://localhost:8080/",
          "height": 202
        },
        "outputId": "b7d27540-c033-4805-af59-406d30b27a51"
      },
      "cell_type": "code",
      "source": [
        "default_df.head()"
      ],
      "execution_count": 15,
      "outputs": [
        {
          "output_type": "execute_result",
          "data": {
            "text/html": [
              "<div>\n",
              "<style scoped>\n",
              "    .dataframe tbody tr th:only-of-type {\n",
              "        vertical-align: middle;\n",
              "    }\n",
              "\n",
              "    .dataframe tbody tr th {\n",
              "        vertical-align: top;\n",
              "    }\n",
              "\n",
              "    .dataframe thead th {\n",
              "        text-align: right;\n",
              "    }\n",
              "</style>\n",
              "<table border=\"1\" class=\"dataframe\">\n",
              "  <thead>\n",
              "    <tr style=\"text-align: right;\">\n",
              "      <th></th>\n",
              "      <th>default</th>\n",
              "      <th>student</th>\n",
              "      <th>balance</th>\n",
              "      <th>income</th>\n",
              "      <th>default_Yes</th>\n",
              "    </tr>\n",
              "  </thead>\n",
              "  <tbody>\n",
              "    <tr>\n",
              "      <th>0</th>\n",
              "      <td>No</td>\n",
              "      <td>No</td>\n",
              "      <td>729.526495</td>\n",
              "      <td>44361.625074</td>\n",
              "      <td>0</td>\n",
              "    </tr>\n",
              "    <tr>\n",
              "      <th>1</th>\n",
              "      <td>No</td>\n",
              "      <td>Yes</td>\n",
              "      <td>817.180407</td>\n",
              "      <td>12106.134700</td>\n",
              "      <td>0</td>\n",
              "    </tr>\n",
              "    <tr>\n",
              "      <th>2</th>\n",
              "      <td>No</td>\n",
              "      <td>No</td>\n",
              "      <td>1073.549164</td>\n",
              "      <td>31767.138947</td>\n",
              "      <td>0</td>\n",
              "    </tr>\n",
              "    <tr>\n",
              "      <th>3</th>\n",
              "      <td>No</td>\n",
              "      <td>No</td>\n",
              "      <td>529.250605</td>\n",
              "      <td>35704.493935</td>\n",
              "      <td>0</td>\n",
              "    </tr>\n",
              "    <tr>\n",
              "      <th>4</th>\n",
              "      <td>No</td>\n",
              "      <td>No</td>\n",
              "      <td>785.655883</td>\n",
              "      <td>38463.495879</td>\n",
              "      <td>0</td>\n",
              "    </tr>\n",
              "  </tbody>\n",
              "</table>\n",
              "</div>"
            ],
            "text/plain": [
              "  default student      balance        income  default_Yes\n",
              "0      No      No   729.526495  44361.625074            0\n",
              "1      No     Yes   817.180407  12106.134700            0\n",
              "2      No      No  1073.549164  31767.138947            0\n",
              "3      No      No   529.250605  35704.493935            0\n",
              "4      No      No   785.655883  38463.495879            0"
            ]
          },
          "metadata": {
            "tags": []
          },
          "execution_count": 15
        }
      ]
    },
    {
      "metadata": {
        "id": "3nQU7GJuKG8S",
        "colab_type": "code",
        "colab": {
          "base_uri": "https://localhost:8080/",
          "height": 202
        },
        "outputId": "9b7745a0-5292-433e-caa3-82d7fee56af2"
      },
      "cell_type": "code",
      "source": [
        "student_dummies = pd.get_dummies(default_df['student'],prefix='student')\n",
        "student_dummies.drop(student_dummies.columns[0],axis=1,inplace=True)\n",
        "default_df = pd.concat([default_df,student_dummies],axis=1)\n",
        "default_df.head()"
      ],
      "execution_count": 16,
      "outputs": [
        {
          "output_type": "execute_result",
          "data": {
            "text/html": [
              "<div>\n",
              "<style scoped>\n",
              "    .dataframe tbody tr th:only-of-type {\n",
              "        vertical-align: middle;\n",
              "    }\n",
              "\n",
              "    .dataframe tbody tr th {\n",
              "        vertical-align: top;\n",
              "    }\n",
              "\n",
              "    .dataframe thead th {\n",
              "        text-align: right;\n",
              "    }\n",
              "</style>\n",
              "<table border=\"1\" class=\"dataframe\">\n",
              "  <thead>\n",
              "    <tr style=\"text-align: right;\">\n",
              "      <th></th>\n",
              "      <th>default</th>\n",
              "      <th>student</th>\n",
              "      <th>balance</th>\n",
              "      <th>income</th>\n",
              "      <th>default_Yes</th>\n",
              "      <th>student_Yes</th>\n",
              "    </tr>\n",
              "  </thead>\n",
              "  <tbody>\n",
              "    <tr>\n",
              "      <th>0</th>\n",
              "      <td>No</td>\n",
              "      <td>No</td>\n",
              "      <td>729.526495</td>\n",
              "      <td>44361.625074</td>\n",
              "      <td>0</td>\n",
              "      <td>0</td>\n",
              "    </tr>\n",
              "    <tr>\n",
              "      <th>1</th>\n",
              "      <td>No</td>\n",
              "      <td>Yes</td>\n",
              "      <td>817.180407</td>\n",
              "      <td>12106.134700</td>\n",
              "      <td>0</td>\n",
              "      <td>1</td>\n",
              "    </tr>\n",
              "    <tr>\n",
              "      <th>2</th>\n",
              "      <td>No</td>\n",
              "      <td>No</td>\n",
              "      <td>1073.549164</td>\n",
              "      <td>31767.138947</td>\n",
              "      <td>0</td>\n",
              "      <td>0</td>\n",
              "    </tr>\n",
              "    <tr>\n",
              "      <th>3</th>\n",
              "      <td>No</td>\n",
              "      <td>No</td>\n",
              "      <td>529.250605</td>\n",
              "      <td>35704.493935</td>\n",
              "      <td>0</td>\n",
              "      <td>0</td>\n",
              "    </tr>\n",
              "    <tr>\n",
              "      <th>4</th>\n",
              "      <td>No</td>\n",
              "      <td>No</td>\n",
              "      <td>785.655883</td>\n",
              "      <td>38463.495879</td>\n",
              "      <td>0</td>\n",
              "      <td>0</td>\n",
              "    </tr>\n",
              "  </tbody>\n",
              "</table>\n",
              "</div>"
            ],
            "text/plain": [
              "  default student      balance        income  default_Yes  student_Yes\n",
              "0      No      No   729.526495  44361.625074            0            0\n",
              "1      No     Yes   817.180407  12106.134700            0            1\n",
              "2      No      No  1073.549164  31767.138947            0            0\n",
              "3      No      No   529.250605  35704.493935            0            0\n",
              "4      No      No   785.655883  38463.495879            0            0"
            ]
          },
          "metadata": {
            "tags": []
          },
          "execution_count": 16
        }
      ]
    },
    {
      "metadata": {
        "id": "0PjKBOjvLCaT",
        "colab_type": "code",
        "colab": {
          "base_uri": "https://localhost:8080/",
          "height": 72
        },
        "outputId": "8f9b45ab-f112-4336-ab05-6c5e91537127"
      },
      "cell_type": "code",
      "source": [
        "from sklearn.cross_validation import train_test_split"
      ],
      "execution_count": 17,
      "outputs": [
        {
          "output_type": "stream",
          "text": [
            "/usr/local/lib/python3.6/dist-packages/sklearn/cross_validation.py:41: DeprecationWarning: This module was deprecated in version 0.18 in favor of the model_selection module into which all the refactored classes and functions are moved. Also note that the interface of the new CV iterators are different from that of this module. This module will be removed in 0.20.\n",
            "  \"This module will be removed in 0.20.\", DeprecationWarning)\n"
          ],
          "name": "stderr"
        }
      ]
    },
    {
      "metadata": {
        "id": "kU95pVceKq5C",
        "colab_type": "code",
        "colab": {}
      },
      "cell_type": "code",
      "source": [
        "x = default_df[['balance','income','student_Yes']]\n",
        "y = default_df['default']\n",
        "xtrain,xtest,ytrain,ytest = train_test_split(x,y,test_size=0.3)"
      ],
      "execution_count": 0,
      "outputs": []
    },
    {
      "metadata": {
        "id": "nShKmCAHLywT",
        "colab_type": "code",
        "colab": {}
      },
      "cell_type": "code",
      "source": [
        "logreg = LogisticRegression(C=.1)"
      ],
      "execution_count": 0,
      "outputs": []
    },
    {
      "metadata": {
        "id": "SgAmmn0pL5E8",
        "colab_type": "code",
        "colab": {
          "base_uri": "https://localhost:8080/",
          "height": 87
        },
        "outputId": "676c5484-ef8e-4d7c-a7c2-ee202a3c62c9"
      },
      "cell_type": "code",
      "source": [
        "logreg.fit(xtrain,ytrain)"
      ],
      "execution_count": 20,
      "outputs": [
        {
          "output_type": "execute_result",
          "data": {
            "text/plain": [
              "LogisticRegression(C=0.1, class_weight=None, dual=False, fit_intercept=True,\n",
              "          intercept_scaling=1, max_iter=100, multi_class='ovr', n_jobs=1,\n",
              "          penalty='l2', random_state=None, solver='liblinear', tol=0.0001,\n",
              "          verbose=0, warm_start=False)"
            ]
          },
          "metadata": {
            "tags": []
          },
          "execution_count": 20
        }
      ]
    },
    {
      "metadata": {
        "id": "XgCSqHc2L7cX",
        "colab_type": "code",
        "colab": {}
      },
      "cell_type": "code",
      "source": [
        "y_log_pred_test = logreg.predict(xtest)\n",
        "y_log_pred_train = logreg.predict(xtrain)"
      ],
      "execution_count": 0,
      "outputs": []
    },
    {
      "metadata": {
        "id": "AiQhm65BMJgE",
        "colab_type": "code",
        "colab": {
          "base_uri": "https://localhost:8080/",
          "height": 35
        },
        "outputId": "73ae87f2-433b-499d-8096-21995b3c8814"
      },
      "cell_type": "code",
      "source": [
        "metrics.accuracy_score(ytest,y_log_pred_test)"
      ],
      "execution_count": 22,
      "outputs": [
        {
          "output_type": "execute_result",
          "data": {
            "text/plain": [
              "0.9666666666666667"
            ]
          },
          "metadata": {
            "tags": []
          },
          "execution_count": 22
        }
      ]
    },
    {
      "metadata": {
        "id": "tQPkj9CKMRKR",
        "colab_type": "code",
        "colab": {
          "base_uri": "https://localhost:8080/",
          "height": 35
        },
        "outputId": "0853773f-2d08-44a6-db27-eb20a9968fdf"
      },
      "cell_type": "code",
      "source": [
        "metrics.accuracy_score(ytrain,y_log_pred_train)"
      ],
      "execution_count": 23,
      "outputs": [
        {
          "output_type": "execute_result",
          "data": {
            "text/plain": [
              "0.966"
            ]
          },
          "metadata": {
            "tags": []
          },
          "execution_count": 23
        }
      ]
    },
    {
      "metadata": {
        "id": "w3WFuxg3MXYe",
        "colab_type": "code",
        "colab": {
          "base_uri": "https://localhost:8080/",
          "height": 52
        },
        "outputId": "da603a88-f33b-45f6-e6ba-9bd50350e21c"
      },
      "cell_type": "code",
      "source": [
        "conf = metrics.confusion_matrix(ytest,y_log_pred_test)\n",
        "conf"
      ],
      "execution_count": 24,
      "outputs": [
        {
          "output_type": "execute_result",
          "data": {
            "text/plain": [
              "array([[2900,    3],\n",
              "       [  97,    0]])"
            ]
          },
          "metadata": {
            "tags": []
          },
          "execution_count": 24
        }
      ]
    },
    {
      "metadata": {
        "id": "nqSfkC30MeYZ",
        "colab_type": "code",
        "colab": {
          "base_uri": "https://localhost:8080/",
          "height": 365
        },
        "outputId": "76ca454d-6469-48d5-889f-e6016c31e509"
      },
      "cell_type": "code",
      "source": [
        "cmap = sns.cubehelix_palette(50,hue=0.05,rot=0,light=0.9,dark=0,as_cmap=True)\n",
        "sns.heatmap(conf,cmap=cmap,xticklabels=['Yes','No'],yticklabels=['Yes','No'],annot=True,fmt=\"d\")"
      ],
      "execution_count": 25,
      "outputs": [
        {
          "output_type": "execute_result",
          "data": {
            "text/plain": [
              "<matplotlib.axes._subplots.AxesSubplot at 0x7f93e3c18fd0>"
            ]
          },
          "metadata": {
            "tags": []
          },
          "execution_count": 25
        },
        {
          "output_type": "display_data",
          "data": {
            "image/png": "[encoded data removed]",
            "text/plain": [
              "<matplotlib.figure.Figure at 0x7f93e3c18320>"
            ]
          },
          "metadata": {
            "tags": []
          }
        }
      ]
    },
    {
      "metadata": {
        "id": "C8lUyMOIM7dg",
        "colab_type": "code",
        "colab": {}
      },
      "cell_type": "code",
      "source": [
        ""
      ],
      "execution_count": 0,
      "outputs": []
    }
  ]
}