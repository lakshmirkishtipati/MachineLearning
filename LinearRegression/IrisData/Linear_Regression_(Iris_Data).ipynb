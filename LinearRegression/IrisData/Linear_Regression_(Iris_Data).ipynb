{
  "nbformat": 4,
  "nbformat_minor": 0,
  "metadata": {
    "colab": {
      "name": "Linear Regression (Iris Data)",
      "version": "0.3.2",
      "provenance": [],
      "include_colab_link": true
    },
    "kernelspec": {
      "name": "python3",
      "display_name": "Python 3"
    }
  },
  "cells": [
    {
      "cell_type": "markdown",
      "metadata": {
        "id": "view-in-github",
        "colab_type": "text"
      },
      "source": [
        "<a href=\"https://colab.research.google.com/github/lakshmirkishtipati/MachineLearning/blob/master/LinearRegression/IrisData/Linear_Regression_(Iris_Data).ipynb\" target=\"_parent\"><img src=\"https://colab.research.google.com/assets/colab-badge.svg\" alt=\"Open In Colab\"/></a>"
      ]
    },
    {
      "metadata": {
        "id": "MdGfXnHt6jc2",
        "colab_type": "code",
        "colab": {}
      },
      "cell_type": "code",
      "source": [
        "import pandas as pd\n",
        "import numpy as np\n",
        "from sklearn.model_selection  import train_test_split\n",
        "from sklearn.linear_model import LinearRegression\n",
        "from sklearn import metrics"
      ],
      "execution_count": 0,
      "outputs": []
    },
    {
      "metadata": {
        "id": "0OWMJ1kWYWBf",
        "colab_type": "code",
        "outputId": "7198dd8e-9d90-4a2f-87a0-dc92cdfee368",
        "colab": {
          "base_uri": "https://localhost:8080/",
          "height": 101
        }
      },
      "cell_type": "code",
      "source": [
        "!pip install -q xlrd\n",
        "!git clone https://github.com/lakshmirkishtipati/MachineLearning.git"
      ],
      "execution_count": 2,
      "outputs": [
        {
          "output_type": "stream",
          "text": [
            "Cloning into 'MachineLearning'...\n",
            "remote: Enumerating objects: 105, done.\u001b[K\n",
            "remote: Total 105 (delta 0), reused 0 (delta 0), pack-reused 105\u001b[K\n",
            "Receiving objects: 100% (105/105), 1.42 MiB | 14.65 MiB/s, done.\n",
            "Resolving deltas: 100% (22/22), done.\n"
          ],
          "name": "stdout"
        }
      ]
    },
    {
      "metadata": {
        "id": "l2ZqZY3mYjm8",
        "colab_type": "code",
        "outputId": "ce5e7bfd-7787-4d30-8663-3d41eb2ac47d",
        "colab": {
          "base_uri": "https://localhost:8080/",
          "height": 84
        }
      },
      "cell_type": "code",
      "source": [
        "!ls MachineLearning/LinearRegression/IrisData"
      ],
      "execution_count": 3,
      "outputs": [
        {
          "output_type": "stream",
          "text": [
            " iris.csv\n",
            "'Iris data desc Linear regression.txt'\n",
            " Linear_regression_iris_assignment_Solution.ipynb\n",
            "'Linear_Regression_(Iris_Data).ipynb'\n"
          ],
          "name": "stdout"
        }
      ]
    },
    {
      "metadata": {
        "id": "MAqN_ZgjY9eP",
        "colab_type": "code",
        "outputId": "e9056948-5516-4aca-dfe9-f6ef3c9921fb",
        "colab": {
          "base_uri": "https://localhost:8080/",
          "height": 195
        }
      },
      "cell_type": "code",
      "source": [
        "#Read the data from Git\n",
        "iris_df = pd.read_csv('MachineLearning/LinearRegression/IrisData/iris.csv')\n",
        "iris_df.head()"
      ],
      "execution_count": 4,
      "outputs": [
        {
          "output_type": "execute_result",
          "data": {
            "text/html": [
              "<div>\n",
              "<style scoped>\n",
              "    .dataframe tbody tr th:only-of-type {\n",
              "        vertical-align: middle;\n",
              "    }\n",
              "\n",
              "    .dataframe tbody tr th {\n",
              "        vertical-align: top;\n",
              "    }\n",
              "\n",
              "    .dataframe thead th {\n",
              "        text-align: right;\n",
              "    }\n",
              "</style>\n",
              "<table border=\"1\" class=\"dataframe\">\n",
              "  <thead>\n",
              "    <tr style=\"text-align: right;\">\n",
              "      <th></th>\n",
              "      <th>Sepal.Length</th>\n",
              "      <th>Sepal.Width</th>\n",
              "      <th>Petal.Length</th>\n",
              "      <th>Petal.Width</th>\n",
              "      <th>Species</th>\n",
              "    </tr>\n",
              "  </thead>\n",
              "  <tbody>\n",
              "    <tr>\n",
              "      <th>0</th>\n",
              "      <td>5.1</td>\n",
              "      <td>3.5</td>\n",
              "      <td>1.4</td>\n",
              "      <td>0.2</td>\n",
              "      <td>setosa</td>\n",
              "    </tr>\n",
              "    <tr>\n",
              "      <th>1</th>\n",
              "      <td>4.9</td>\n",
              "      <td>3.0</td>\n",
              "      <td>1.4</td>\n",
              "      <td>0.2</td>\n",
              "      <td>setosa</td>\n",
              "    </tr>\n",
              "    <tr>\n",
              "      <th>2</th>\n",
              "      <td>4.7</td>\n",
              "      <td>3.2</td>\n",
              "      <td>1.3</td>\n",
              "      <td>0.2</td>\n",
              "      <td>setosa</td>\n",
              "    </tr>\n",
              "    <tr>\n",
              "      <th>3</th>\n",
              "      <td>4.6</td>\n",
              "      <td>3.1</td>\n",
              "      <td>1.5</td>\n",
              "      <td>0.2</td>\n",
              "      <td>setosa</td>\n",
              "    </tr>\n",
              "    <tr>\n",
              "      <th>4</th>\n",
              "      <td>5.0</td>\n",
              "      <td>3.6</td>\n",
              "      <td>1.4</td>\n",
              "      <td>0.2</td>\n",
              "      <td>setosa</td>\n",
              "    </tr>\n",
              "  </tbody>\n",
              "</table>\n",
              "</div>"
            ],
            "text/plain": [
              "   Sepal.Length  Sepal.Width  Petal.Length  Petal.Width Species\n",
              "0           5.1          3.5           1.4          0.2  setosa\n",
              "1           4.9          3.0           1.4          0.2  setosa\n",
              "2           4.7          3.2           1.3          0.2  setosa\n",
              "3           4.6          3.1           1.5          0.2  setosa\n",
              "4           5.0          3.6           1.4          0.2  setosa"
            ]
          },
          "metadata": {
            "tags": []
          },
          "execution_count": 4
        }
      ]
    },
    {
      "metadata": {
        "id": "1PliTdXychCz",
        "colab_type": "code",
        "outputId": "51a998ae-f896-4fb3-abf1-4908c49e9d5b",
        "colab": {
          "base_uri": "https://localhost:8080/",
          "height": 121
        }
      },
      "cell_type": "code",
      "source": [
        "iris_df.isnull().astype('int').sum()"
      ],
      "execution_count": 0,
      "outputs": [
        {
          "output_type": "execute_result",
          "data": {
            "text/plain": [
              "Sepal.Length    0\n",
              "Sepal.Width     0\n",
              "Petal.Length    0\n",
              "Petal.Width     0\n",
              "Species         0\n",
              "dtype: int64"
            ]
          },
          "metadata": {
            "tags": []
          },
          "execution_count": 66
        }
      ]
    },
    {
      "metadata": {
        "id": "rfUq7p1P7zFG",
        "colab_type": "text"
      },
      "cell_type": "markdown",
      "source": [
        "### There are no missing values in the dataset"
      ]
    },
    {
      "metadata": {
        "id": "XqFxCjzqc8Fy",
        "colab_type": "code",
        "colab": {}
      },
      "cell_type": "code",
      "source": [
        "import seaborn as sns\n",
        "import matplotlib.pyplot as plt\n",
        "%matplotlib inline\n",
        "plt.rcParams['figure.figsize'] = (8, 6)\n",
        "plt.rcParams['font.size'] = 14"
      ],
      "execution_count": 0,
      "outputs": []
    },
    {
      "metadata": {
        "id": "tD6LmAD6_4bu",
        "colab_type": "code",
        "outputId": "7f81ae79-4103-42fd-9d7d-5a294c09cef0",
        "colab": {
          "base_uri": "https://localhost:8080/",
          "height": 750
        }
      },
      "cell_type": "code",
      "source": [
        "sns.lmplot(x='Sepal.Width', y='Sepal.Length', data=iris_df, aspect=1.5, scatter_kws={'alpha':0.2})\n",
        "iris_df.plot(kind='scatter',x='Sepal.Width',y = 'Sepal.Length')"
      ],
      "execution_count": 0,
      "outputs": [
        {
          "output_type": "execute_result",
          "data": {
            "text/plain": [
              "<matplotlib.axes._subplots.AxesSubplot at 0x7f1547c3f1d0>"
            ]
          },
          "metadata": {
            "tags": []
          },
          "execution_count": 68
        },
        {
          "output_type": "display_data",
          "data": {
            "image/png": "[encoded data removed]",
            "text/plain": [
              "<matplotlib.figure.Figure at 0x7f154a29e128>"
            ]
          },
          "metadata": {
            "tags": []
          }
        },
        {
          "output_type": "display_data",
          "data": {
            "image/png": "[encoded data removed]",
            "text/plain": [
              "<matplotlib.figure.Figure at 0x7f1547c16a20>"
            ]
          },
          "metadata": {
            "tags": []
          }
        }
      ]
    },
    {
      "metadata": {
        "id": "AJD5tLa5_9Yz",
        "colab_type": "code",
        "outputId": "a0736c64-c106-4547-8453-0aa7b922a9ca",
        "colab": {
          "base_uri": "https://localhost:8080/",
          "height": 481
        }
      },
      "cell_type": "code",
      "source": [
        "sns.boxplot(iris_df[['Sepal.Length']])"
      ],
      "execution_count": 0,
      "outputs": [
        {
          "output_type": "stream",
          "text": [
            "/usr/local/lib/python3.6/dist-packages/seaborn/categorical.py:2171: UserWarning: The boxplot API has been changed. Attempting to adjust your arguments for the new API (which might not work). Please update your code. See the version 0.6 release notes for more info.\n",
            "  warnings.warn(msg, UserWarning)\n",
            "/usr/local/lib/python3.6/dist-packages/seaborn/categorical.py:454: FutureWarning: remove_na is deprecated and is a private function. Do not use.\n",
            "  box_data = remove_na(group_data)\n"
          ],
          "name": "stderr"
        },
        {
          "output_type": "execute_result",
          "data": {
            "text/plain": [
              "<matplotlib.axes._subplots.AxesSubplot at 0x7f1547b8a390>"
            ]
          },
          "metadata": {
            "tags": []
          },
          "execution_count": 69
        },
        {
          "output_type": "display_data",
          "data": {
            "image/png": "[encoded data removed]",
            "text/plain": [
              "<matplotlib.figure.Figure at 0x7f1547bda748>"
            ]
          },
          "metadata": {
            "tags": []
          }
        }
      ]
    },
    {
      "metadata": {
        "id": "bA6JCxifOtvk",
        "colab_type": "code",
        "outputId": "50d95f46-2981-4ca8-dba5-32b13de4de68",
        "colab": {
          "base_uri": "https://localhost:8080/",
          "height": 52
        }
      },
      "cell_type": "code",
      "source": [
        "x = iris_df[['Sepal.Width','Petal.Length','Petal.Width']]\n",
        "y = iris_df['Sepal.Length']\n",
        "linreg = LinearRegression()\n",
        "linreg.fit(x,y)\n",
        "print(linreg.coef_)\n",
        "print(linreg.intercept_)"
      ],
      "execution_count": 0,
      "outputs": [
        {
          "output_type": "stream",
          "text": [
            "[ 0.65083716  0.70913196 -0.55648266]\n",
            "1.855997492917545\n"
          ],
          "name": "stdout"
        }
      ]
    },
    {
      "metadata": {
        "id": "BFRiVga0_XPD",
        "colab_type": "text"
      },
      "cell_type": "markdown",
      "source": [
        "### *   Keeping everything constant if you increase Sepal.Width by 1 cm, the Sepal.Length will get increased by 0.65 cm.\n",
        "\n",
        "### *   Keeping everything constant if we increase Petal.Length by 1cm, teh Sepal.Length will get increase by 0.70 cm.\n",
        "\n",
        "\n",
        "### *   Keeping everything constant if we increase Petal.Width by 1cm, teh Sepal.Length will get decrease by 0.55 cm.\n",
        "\n",
        "\n"
      ]
    },
    {
      "metadata": {
        "id": "CMwyK5VQKCGS",
        "colab_type": "code",
        "colab": {}
      },
      "cell_type": "code",
      "source": [
        "def train_test_iris_rmse(feature_cols):\n",
        "  x = iris_df[feature_cols]\n",
        "  y = iris_df['Sepal.Length']\n",
        "  x_train,x_test,y_train,y_test = train_test_split(x,y, test_size=0.3)\n",
        "  linreg = LinearRegression()\n",
        "  linreg.fit(x_train,y_train)\n",
        "  y_pred = linreg.predict(x_test)\n",
        "  return np.sqrt(metrics.mean_squared_error(y_pred,y_test))"
      ],
      "execution_count": 0,
      "outputs": []
    },
    {
      "metadata": {
        "id": "FNdKAnw5N_Bp",
        "colab_type": "code",
        "outputId": "1f31d68e-f09d-495d-9425-a9efab2f293a",
        "colab": {
          "base_uri": "https://localhost:8080/",
          "height": 35
        }
      },
      "cell_type": "code",
      "source": [
        "feature_cols = ['Sepal.Width','Petal.Length','Petal.Width']\n",
        "train_test_iris_rmse(feature_cols)"
      ],
      "execution_count": 0,
      "outputs": [
        {
          "output_type": "execute_result",
          "data": {
            "text/plain": [
              "0.29165289417303597"
            ]
          },
          "metadata": {
            "tags": []
          },
          "execution_count": 72
        }
      ]
    },
    {
      "metadata": {
        "id": "Qda2Y9bq96_s",
        "colab_type": "code",
        "colab": {}
      },
      "cell_type": "code",
      "source": [
        ""
      ],
      "execution_count": 0,
      "outputs": []
    },
    {
      "metadata": {
        "id": "GYEbEPhhORp3",
        "colab_type": "code",
        "outputId": "dcf1934d-f9d0-4f86-b2a2-1ae69b57de15",
        "colab": {
          "base_uri": "https://localhost:8080/",
          "height": 69
        }
      },
      "cell_type": "code",
      "source": [
        "#Check for multicollinearity\n",
        "corr = np.corrcoef(x, rowvar=0)\n",
        "corr"
      ],
      "execution_count": 0,
      "outputs": [
        {
          "output_type": "execute_result",
          "data": {
            "text/plain": [
              "array([[ 1.        , -0.4284401 , -0.36612593],\n",
              "       [-0.4284401 ,  1.        ,  0.96286543],\n",
              "       [-0.36612593,  0.96286543,  1.        ]])"
            ]
          },
          "metadata": {
            "tags": []
          },
          "execution_count": 73
        }
      ]
    },
    {
      "metadata": {
        "id": "ATiQlMy6Q9ks",
        "colab_type": "code",
        "outputId": "18b302ea-3dfb-48b7-8ae9-23ccebaab682",
        "colab": {
          "base_uri": "https://localhost:8080/",
          "height": 87
        }
      },
      "cell_type": "code",
      "source": [
        "feature_cols = ['Sepal.Width','Petal.Length','Petal.Width']\n",
        "\n",
        "x = iris_df[feature_cols]\n",
        "y = iris_df['Sepal.Length']\n",
        "\n",
        "x_train,x_test,y_train,y_test = train_test_split(x,y, test_size=0.30)\n",
        "print(x_train.shape)\n",
        "print(y_train.shape)\n",
        "print(x_test.shape)\n",
        "print(y_test.shape)"
      ],
      "execution_count": 0,
      "outputs": [
        {
          "output_type": "stream",
          "text": [
            "(105, 3)\n",
            "(105,)\n",
            "(45, 3)\n",
            "(45,)\n"
          ],
          "name": "stdout"
        }
      ]
    },
    {
      "metadata": {
        "id": "ASWUYqV8RIUX",
        "colab_type": "code",
        "colab": {}
      },
      "cell_type": "code",
      "source": [
        "# Buliding Linear Model with algorithm\n",
        "linreg = LinearRegression()\n",
        "model = linreg.fit(x_train,y_train)\n",
        "predicted = linreg.predict(x_test)"
      ],
      "execution_count": 0,
      "outputs": []
    },
    {
      "metadata": {
        "id": "8Tcp4NsDdzEU",
        "colab_type": "code",
        "outputId": "09aedbdb-ebf4-48b4-a59c-a92817f005d0",
        "colab": {
          "base_uri": "https://localhost:8080/",
          "height": 35
        }
      },
      "cell_type": "code",
      "source": [
        "# Coeff. of determination og R squared value\n",
        "print(model.score(x_train,y_train))"
      ],
      "execution_count": 0,
      "outputs": [
        {
          "output_type": "stream",
          "text": [
            "0.8699757930391768\n"
          ],
          "name": "stdout"
        }
      ]
    },
    {
      "metadata": {
        "id": "qhfHWY4M4L_0",
        "colab_type": "code",
        "outputId": "e0e17579-08e8-4ae2-c804-da8bca0cf4fb",
        "colab": {
          "base_uri": "https://localhost:8080/",
          "height": 35
        }
      },
      "cell_type": "code",
      "source": [
        "## R Squared value or coefficient of determination\n",
        "print(metrics.r2_score(y_test,predicted))"
      ],
      "execution_count": 0,
      "outputs": [
        {
          "output_type": "stream",
          "text": [
            "0.8270147270673942\n"
          ],
          "name": "stdout"
        }
      ]
    },
    {
      "metadata": {
        "id": "DIBvUH1ed8We",
        "colab_type": "code",
        "outputId": "06257c0b-c22d-4611-e12e-5a37abb43e58",
        "colab": {
          "base_uri": "https://localhost:8080/",
          "height": 52
        }
      },
      "cell_type": "code",
      "source": [
        "print(model.intercept_)\n",
        "print(model.coef_)"
      ],
      "execution_count": 0,
      "outputs": [
        {
          "output_type": "stream",
          "text": [
            "1.9500195594719694\n",
            "[ 0.61271799  0.69930895 -0.53094114]\n"
          ],
          "name": "stdout"
        }
      ]
    },
    {
      "metadata": {
        "id": "Kn6ixa0QeCyV",
        "colab_type": "code",
        "colab": {}
      },
      "cell_type": "code",
      "source": [
        "# predict the x_test with model\n",
        "predicted = linreg.predict(x_test)"
      ],
      "execution_count": 0,
      "outputs": []
    },
    {
      "metadata": {
        "id": "FIovwqFPeOpW",
        "colab_type": "code",
        "outputId": "57806786-30a4-4598-acb9-f61d15528eb7",
        "colab": {
          "base_uri": "https://localhost:8080/",
          "height": 35
        }
      },
      "cell_type": "code",
      "source": [
        "# Root Mean Squared Error\n",
        "np.sqrt(metrics.mean_squared_error(y_test,predicted))"
      ],
      "execution_count": 0,
      "outputs": [
        {
          "output_type": "execute_result",
          "data": {
            "text/plain": [
              "0.3492365241051055"
            ]
          },
          "metadata": {
            "tags": []
          },
          "execution_count": 80
        }
      ]
    },
    {
      "metadata": {
        "id": "4Y3p32LGeVDB",
        "colab_type": "code",
        "outputId": "985153c9-fd28-4c00-adbb-d1d65fb2a9e4",
        "colab": {
          "base_uri": "https://localhost:8080/",
          "height": 35
        }
      },
      "cell_type": "code",
      "source": [
        "## Mean Absolute Error\n",
        "print(metrics.mean_absolute_error(y_test,predicted))"
      ],
      "execution_count": 0,
      "outputs": [
        {
          "output_type": "stream",
          "text": [
            "0.28799237071916595\n"
          ],
          "name": "stdout"
        }
      ]
    },
    {
      "metadata": {
        "id": "xAfnOu7X4b9o",
        "colab_type": "code",
        "outputId": "53ebc1dc-77b7-45c5-8261-cfe7a6c5caaa",
        "colab": {
          "base_uri": "https://localhost:8080/",
          "height": 87
        }
      },
      "cell_type": "code",
      "source": [
        "# Compute NULL RMSE\n",
        "feature_cols = ['Sepal.Width','Petal.Length','Petal.Width']\n",
        "output_var = ['Sepal.Length']\n",
        "\n",
        "x = iris_df[feature_cols]\n",
        "y = iris_df[output_var]\n",
        "\n",
        "x_train,x_test,y_train,y_test = train_test_split(x,y, test_size = 0.3)\n",
        "\n",
        "# to convert (5,1) to (5,)\n",
        "y_test = np.ravel(y_test)\n",
        "#Create a Numpy array with same size as of y_test\n",
        "y_null = np.zeros_like(y_test,dtype=float)\n",
        "\n",
        "#Fill with mean value of y_test\n",
        "\n",
        "y_null.fill(y_test.mean())\n",
        "\n",
        "y_test\n"
      ],
      "execution_count": 0,
      "outputs": [
        {
          "output_type": "execute_result",
          "data": {
            "text/plain": [
              "array([5. , 6.4, 6.7, 7.7, 6.4, 6.3, 6.3, 5.1, 4.9, 6. , 5.1, 5.6, 7.1,\n",
              "       5.5, 6.2, 6.7, 5.9, 6.7, 4.8, 5.9, 6.3, 4.7, 6.1, 5.2, 7.7, 7. ,\n",
              "       6.3, 6.1, 6.6, 5.3, 5.2, 4.3, 6. , 6.7, 6.9, 6.1, 5.7, 5.1, 5.7,\n",
              "       5. , 5. , 5.5, 6. , 5.4, 4.9])"
            ]
          },
          "metadata": {
            "tags": []
          },
          "execution_count": 82
        }
      ]
    },
    {
      "metadata": {
        "id": "Vd8lLaWj5S09",
        "colab_type": "code",
        "outputId": "b46f1e3c-7672-40fe-b9f2-7c6bc12bb3a7",
        "colab": {
          "base_uri": "https://localhost:8080/",
          "height": 35
        }
      },
      "cell_type": "code",
      "source": [
        "# compute null RMSE\n",
        "np.sqrt(metrics.mean_squared_error(y_test, y_null))"
      ],
      "execution_count": 0,
      "outputs": [
        {
          "output_type": "execute_result",
          "data": {
            "text/plain": [
              "0.7915728989303434"
            ]
          },
          "metadata": {
            "tags": []
          },
          "execution_count": 83
        }
      ]
    },
    {
      "metadata": {
        "id": "oxtmKfUrQ5fm",
        "colab_type": "code",
        "outputId": "658d7b18-77f0-4ff5-f550-d5fe17f193ff",
        "colab": {
          "base_uri": "https://localhost:8080/",
          "height": 202
        }
      },
      "cell_type": "code",
      "source": [
        "#help(pd.get_dummies)\n",
        "species_dummies = pd.get_dummies(iris_df['Species'],prefix = 'Species')\n",
        "species_dummies.head()"
      ],
      "execution_count": 0,
      "outputs": [
        {
          "output_type": "execute_result",
          "data": {
            "text/html": [
              "<div>\n",
              "<style scoped>\n",
              "    .dataframe tbody tr th:only-of-type {\n",
              "        vertical-align: middle;\n",
              "    }\n",
              "\n",
              "    .dataframe tbody tr th {\n",
              "        vertical-align: top;\n",
              "    }\n",
              "\n",
              "    .dataframe thead th {\n",
              "        text-align: right;\n",
              "    }\n",
              "</style>\n",
              "<table border=\"1\" class=\"dataframe\">\n",
              "  <thead>\n",
              "    <tr style=\"text-align: right;\">\n",
              "      <th></th>\n",
              "      <th>Species_setosa</th>\n",
              "      <th>Species_versicolor</th>\n",
              "      <th>Species_virginica</th>\n",
              "    </tr>\n",
              "  </thead>\n",
              "  <tbody>\n",
              "    <tr>\n",
              "      <th>0</th>\n",
              "      <td>1</td>\n",
              "      <td>0</td>\n",
              "      <td>0</td>\n",
              "    </tr>\n",
              "    <tr>\n",
              "      <th>1</th>\n",
              "      <td>1</td>\n",
              "      <td>0</td>\n",
              "      <td>0</td>\n",
              "    </tr>\n",
              "    <tr>\n",
              "      <th>2</th>\n",
              "      <td>1</td>\n",
              "      <td>0</td>\n",
              "      <td>0</td>\n",
              "    </tr>\n",
              "    <tr>\n",
              "      <th>3</th>\n",
              "      <td>1</td>\n",
              "      <td>0</td>\n",
              "      <td>0</td>\n",
              "    </tr>\n",
              "    <tr>\n",
              "      <th>4</th>\n",
              "      <td>1</td>\n",
              "      <td>0</td>\n",
              "      <td>0</td>\n",
              "    </tr>\n",
              "  </tbody>\n",
              "</table>\n",
              "</div>"
            ],
            "text/plain": [
              "   Species_setosa  Species_versicolor  Species_virginica\n",
              "0               1                   0                  0\n",
              "1               1                   0                  0\n",
              "2               1                   0                  0\n",
              "3               1                   0                  0\n",
              "4               1                   0                  0"
            ]
          },
          "metadata": {
            "tags": []
          },
          "execution_count": 84
        }
      ]
    },
    {
      "metadata": {
        "id": "93vOnmSxXeFW",
        "colab_type": "code",
        "outputId": "8ca7ea1f-9e29-4afe-9ce3-8a7794e4e49c",
        "colab": {
          "base_uri": "https://localhost:8080/",
          "height": 202
        }
      },
      "cell_type": "code",
      "source": [
        "iris_df = pd.concat([iris_df,species_dummies],axis=1)\n",
        "iris_df.head()"
      ],
      "execution_count": 0,
      "outputs": [
        {
          "output_type": "execute_result",
          "data": {
            "text/html": [
              "<div>\n",
              "<style scoped>\n",
              "    .dataframe tbody tr th:only-of-type {\n",
              "        vertical-align: middle;\n",
              "    }\n",
              "\n",
              "    .dataframe tbody tr th {\n",
              "        vertical-align: top;\n",
              "    }\n",
              "\n",
              "    .dataframe thead th {\n",
              "        text-align: right;\n",
              "    }\n",
              "</style>\n",
              "<table border=\"1\" class=\"dataframe\">\n",
              "  <thead>\n",
              "    <tr style=\"text-align: right;\">\n",
              "      <th></th>\n",
              "      <th>Sepal.Length</th>\n",
              "      <th>Sepal.Width</th>\n",
              "      <th>Petal.Length</th>\n",
              "      <th>Petal.Width</th>\n",
              "      <th>Species</th>\n",
              "      <th>Species_setosa</th>\n",
              "      <th>Species_versicolor</th>\n",
              "      <th>Species_virginica</th>\n",
              "    </tr>\n",
              "  </thead>\n",
              "  <tbody>\n",
              "    <tr>\n",
              "      <th>0</th>\n",
              "      <td>5.1</td>\n",
              "      <td>3.5</td>\n",
              "      <td>1.4</td>\n",
              "      <td>0.2</td>\n",
              "      <td>setosa</td>\n",
              "      <td>1</td>\n",
              "      <td>0</td>\n",
              "      <td>0</td>\n",
              "    </tr>\n",
              "    <tr>\n",
              "      <th>1</th>\n",
              "      <td>4.9</td>\n",
              "      <td>3.0</td>\n",
              "      <td>1.4</td>\n",
              "      <td>0.2</td>\n",
              "      <td>setosa</td>\n",
              "      <td>1</td>\n",
              "      <td>0</td>\n",
              "      <td>0</td>\n",
              "    </tr>\n",
              "    <tr>\n",
              "      <th>2</th>\n",
              "      <td>4.7</td>\n",
              "      <td>3.2</td>\n",
              "      <td>1.3</td>\n",
              "      <td>0.2</td>\n",
              "      <td>setosa</td>\n",
              "      <td>1</td>\n",
              "      <td>0</td>\n",
              "      <td>0</td>\n",
              "    </tr>\n",
              "    <tr>\n",
              "      <th>3</th>\n",
              "      <td>4.6</td>\n",
              "      <td>3.1</td>\n",
              "      <td>1.5</td>\n",
              "      <td>0.2</td>\n",
              "      <td>setosa</td>\n",
              "      <td>1</td>\n",
              "      <td>0</td>\n",
              "      <td>0</td>\n",
              "    </tr>\n",
              "    <tr>\n",
              "      <th>4</th>\n",
              "      <td>5.0</td>\n",
              "      <td>3.6</td>\n",
              "      <td>1.4</td>\n",
              "      <td>0.2</td>\n",
              "      <td>setosa</td>\n",
              "      <td>1</td>\n",
              "      <td>0</td>\n",
              "      <td>0</td>\n",
              "    </tr>\n",
              "  </tbody>\n",
              "</table>\n",
              "</div>"
            ],
            "text/plain": [
              "   Sepal.Length  Sepal.Width  Petal.Length  Petal.Width Species  \\\n",
              "0           5.1          3.5           1.4          0.2  setosa   \n",
              "1           4.9          3.0           1.4          0.2  setosa   \n",
              "2           4.7          3.2           1.3          0.2  setosa   \n",
              "3           4.6          3.1           1.5          0.2  setosa   \n",
              "4           5.0          3.6           1.4          0.2  setosa   \n",
              "\n",
              "   Species_setosa  Species_versicolor  Species_virginica  \n",
              "0               1                   0                  0  \n",
              "1               1                   0                  0  \n",
              "2               1                   0                  0  \n",
              "3               1                   0                  0  \n",
              "4               1                   0                  0  "
            ]
          },
          "metadata": {
            "tags": []
          },
          "execution_count": 85
        }
      ]
    },
    {
      "metadata": {
        "id": "Pg_WT-szcZYD",
        "colab_type": "code",
        "colab": {}
      },
      "cell_type": "code",
      "source": [
        "iris_df.drop(['Species_setosa'],axis=1,inplace=True)"
      ],
      "execution_count": 0,
      "outputs": []
    },
    {
      "metadata": {
        "id": "yxVeJ58jRlNt",
        "colab_type": "code",
        "outputId": "72aae967-2d31-4d21-8d63-1d1ba850fc38",
        "colab": {
          "base_uri": "https://localhost:8080/",
          "height": 35
        }
      },
      "cell_type": "code",
      "source": [
        "feature_cols = ['Species_versicolor','Species_virginica']\n",
        "train_test_iris_rmse(feature_cols)"
      ],
      "execution_count": 0,
      "outputs": [
        {
          "output_type": "execute_result",
          "data": {
            "text/plain": [
              "0.5577703573942075"
            ]
          },
          "metadata": {
            "tags": []
          },
          "execution_count": 90
        }
      ]
    },
    {
      "metadata": {
        "id": "acI1bqWdS_tR",
        "colab_type": "code",
        "outputId": "0773734b-d42d-4526-ffb6-2d926e57a664",
        "colab": {
          "base_uri": "https://localhost:8080/",
          "height": 52
        }
      },
      "cell_type": "code",
      "source": [
        "# Analyzing the dummy columns\n",
        "feature_cols = ['Species_versicolor','Species_virginica']\n",
        "x = iris_df[feature_cols]\n",
        "y = iris_df['Sepal.Length']\n",
        "x_train,x_test,y_train,y_test = train_test_split(x,y)\n",
        "linreg = LinearRegression()\n",
        "linreg.fit(x,y)\n",
        "y_pred = linreg.predict(x_test)\n",
        "print(linreg.coef_)\n",
        "print(linreg.intercept_)"
      ],
      "execution_count": 0,
      "outputs": [
        {
          "output_type": "stream",
          "text": [
            "[0.93  1.582]\n",
            "5.006\n"
          ],
          "name": "stdout"
        }
      ]
    },
    {
      "metadata": {
        "id": "G1e6vBtHTUVT",
        "colab_type": "code",
        "colab": {}
      },
      "cell_type": "code",
      "source": [
        ""
      ],
      "execution_count": 0,
      "outputs": []
    }
  ]
}